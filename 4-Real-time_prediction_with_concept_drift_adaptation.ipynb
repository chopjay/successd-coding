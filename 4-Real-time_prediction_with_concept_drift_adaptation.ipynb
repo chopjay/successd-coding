{
  "cells": [
    {
      "cell_type": "markdown",
      "metadata": {
        "id": "Ul8F3dcGomWk"
      },
      "source": [
        "# A Lightweight Concept Drift Detection and Adaptation Framework for IoT Data Streams\n",
        "This is the code for the paper entitled \"**A Lightweight Concept Drift Detection and Adaptation Framework for IoT Data Streams**\" accepted in IEEE Internet of Things Magazine.  \n",
        "Authors: Li Yang (lyang339@uwo.ca) and Abdallah Shami (Abdallah.Shami@uwo.ca)  \n",
        "Organization: The Optimized Computing and Communications (OC2) Lab, ECE Department, Western University\n",
        "\n",
        "**Notebook 4: Real-time prediction with concept drift adaptation**  \n",
        "Aims:  \n",
        "&nbsp; 1): Develop a real-time classifier with concept drift detection  \n",
        "&nbsp; 2): Plot a figure/gif to show the real-time prediction results that can be updated over time.\n",
        "\n",
        "&nbsp; 开发一个具有概念漂移检测功能的实时分类器.\n",
        "\n",
        "&nbsp; 绘制一个图形/gif,显示可以随时间更新的实时预测结果。"
      ]
    },
    {
      "cell_type": "markdown",
      "metadata": {
        "id": "A-bokWseomWl"
      },
      "source": [
        "## Import libraries"
      ]
    },
    {
      "cell_type": "code",
      "source": [
        "!pip install river"
      ],
      "metadata": {
        "colab": {
          "base_uri": "https://localhost:8080/"
        },
        "id": "i7zjL2g_pdzo",
        "outputId": "547e85d4-d722-48f3-de65-463dcef120f7"
      },
      "execution_count": 2,
      "outputs": [
        {
          "output_type": "stream",
          "name": "stdout",
          "text": [
            "Collecting river\n",
            "  Downloading river-0.21.2-cp310-cp310-manylinux_2_17_x86_64.manylinux2014_x86_64.whl.metadata (9.0 kB)\n",
            "Requirement already satisfied: numpy<2.0.0,>=1.23.0 in /usr/local/lib/python3.10/dist-packages (from river) (1.26.4)\n",
            "Requirement already satisfied: pandas<3.0,>=2.1 in /usr/local/lib/python3.10/dist-packages (from river) (2.2.2)\n",
            "Requirement already satisfied: scipy<2.0.0,>=1.12.1 in /usr/local/lib/python3.10/dist-packages (from river) (1.13.1)\n",
            "Requirement already satisfied: python-dateutil>=2.8.2 in /usr/local/lib/python3.10/dist-packages (from pandas<3.0,>=2.1->river) (2.8.2)\n",
            "Requirement already satisfied: pytz>=2020.1 in /usr/local/lib/python3.10/dist-packages (from pandas<3.0,>=2.1->river) (2024.2)\n",
            "Requirement already satisfied: tzdata>=2022.7 in /usr/local/lib/python3.10/dist-packages (from pandas<3.0,>=2.1->river) (2024.2)\n",
            "Requirement already satisfied: six>=1.5 in /usr/local/lib/python3.10/dist-packages (from python-dateutil>=2.8.2->pandas<3.0,>=2.1->river) (1.16.0)\n",
            "Downloading river-0.21.2-cp310-cp310-manylinux_2_17_x86_64.manylinux2014_x86_64.whl (3.1 MB)\n",
            "\u001b[2K   \u001b[90m━━━━━━━━━━━━━━━━━━━━━━━━━━━━━━━━━━━━━━━━\u001b[0m \u001b[32m3.1/3.1 MB\u001b[0m \u001b[31m15.7 MB/s\u001b[0m eta \u001b[36m0:00:00\u001b[0m\n",
            "\u001b[?25hInstalling collected packages: river\n",
            "Successfully installed river-0.21.2\n"
          ]
        }
      ]
    },
    {
      "cell_type": "code",
      "execution_count": 3,
      "metadata": {
        "collapsed": true,
        "id": "jVWS0oeFomWl"
      },
      "outputs": [],
      "source": [
        "import pandas as pd\n",
        "import numpy as np\n",
        "from sklearn.model_selection import train_test_split\n",
        "import lightgbm as lgb\n",
        "from sklearn.metrics import accuracy_score\n",
        "from river import metrics\n",
        "from river import stream\n",
        "import matplotlib.pyplot as plt\n",
        "import statistics\n",
        "import seaborn as sns"
      ]
    },
    {
      "cell_type": "markdown",
      "metadata": {
        "id": "97k33jrIomWl"
      },
      "source": [
        "## Read the NSL-KDD dataset"
      ]
    },
    {
      "cell_type": "code",
      "execution_count": 4,
      "metadata": {
        "collapsed": true,
        "id": "9dF8v8SLomWl"
      },
      "outputs": [],
      "source": [
        "df = pd.read_csv(\"NSL_KDD_binary(train+test).csv\")\n",
        "df1 = pd.read_csv(\"NSL_KDD_binary_train.csv\")\n",
        "df2 = pd.read_csv(\"NSL_KDD_binary_test.csv\")"
      ]
    },
    {
      "cell_type": "markdown",
      "metadata": {
        "id": "WL-QQrNsomWm"
      },
      "source": [
        "### Data sampling\n",
        "Use the last 10% of training set and the entire test set"
      ]
    },
    {
      "cell_type": "code",
      "execution_count": 5,
      "metadata": {
        "id": "Jno7sBLdomWm"
      },
      "outputs": [],
      "source": [
        "df_used = int(len(df1)*0.1) + len(df2)\n",
        "df0 = df.iloc[-df_used:]"
      ]
    },
    {
      "cell_type": "markdown",
      "metadata": {
        "id": "5XB8UOR8omWm"
      },
      "source": [
        "## Train-test split\n",
        "10% training set, and 90% test set"
      ]
    },
    {
      "cell_type": "code",
      "execution_count": 6,
      "metadata": {
        "collapsed": true,
        "id": "iZKwexkComWm"
      },
      "outputs": [],
      "source": [
        "X = df0.drop(['label'],axis=1)\n",
        "y = df0['label']\n",
        "X_train, X_test, y_train, y_test = train_test_split(X,y, train_size = 0.1, test_size = 0.9, shuffle=False, random_state = 0)"
      ]
    },
    {
      "cell_type": "markdown",
      "metadata": {
        "id": "bQPpuH-AomWm"
      },
      "source": [
        "## Offline learning: LightGBM"
      ]
    },
    {
      "cell_type": "code",
      "execution_count": 7,
      "metadata": {
        "colab": {
          "base_uri": "https://localhost:8080/"
        },
        "id": "CKNGNT6DomWm",
        "outputId": "464a27bc-d64d-41d5-82ee-a1aeb5c6ae4d"
      },
      "outputs": [
        {
          "output_type": "stream",
          "name": "stdout",
          "text": [
            "[LightGBM] [Info] Number of positive: 1599, number of negative: 1915\n",
            "[LightGBM] [Info] Auto-choosing row-wise multi-threading, the overhead of testing was 0.001409 seconds.\n",
            "You can set `force_row_wise=true` to remove the overhead.\n",
            "And if memory is not enough, you can set `force_col_wise=true`.\n",
            "[LightGBM] [Info] Total Bins 2049\n",
            "[LightGBM] [Info] Number of data points in the train set: 3514, number of used features: 31\n",
            "[LightGBM] [Info] [binary:BoostFromScore]: pavg=0.455037 -> initscore=-0.180339\n",
            "[LightGBM] [Info] Start training from score -0.180339\n",
            "[LightGBM] [Warning] No further splits with positive gain, best gain: -inf\n",
            "[LightGBM] [Warning] No further splits with positive gain, best gain: -inf\n",
            "Accuracy: 0.8420969424858507\n"
          ]
        }
      ],
      "source": [
        "classifier = lgb.LGBMClassifier()\n",
        "# classifier = joblib.load('Optimized_lightGBM.pkl')\n",
        "classifier.fit(X_train,y_train)\n",
        "predictions = classifier.predict(X_test)\n",
        "print(\"Accuracy: \"+str(accuracy_score(y_test,predictions)))"
      ]
    },
    {
      "cell_type": "code",
      "source": [
        "!pip install ipywidgets\n",
        "!pip install PyQt5\n",
        "!pip install PySide2"
      ],
      "metadata": {
        "colab": {
          "base_uri": "https://localhost:8080/"
        },
        "id": "rJTnneE3qn5q",
        "outputId": "0f3b2a01-2558-42f8-c04e-4a731f4f24e5"
      },
      "execution_count": 14,
      "outputs": [
        {
          "output_type": "stream",
          "name": "stdout",
          "text": [
            "Requirement already satisfied: ipywidgets in /usr/local/lib/python3.10/dist-packages (7.7.1)\n",
            "Requirement already satisfied: ipykernel>=4.5.1 in /usr/local/lib/python3.10/dist-packages (from ipywidgets) (5.5.6)\n",
            "Requirement already satisfied: ipython-genutils~=0.2.0 in /usr/local/lib/python3.10/dist-packages (from ipywidgets) (0.2.0)\n",
            "Requirement already satisfied: traitlets>=4.3.1 in /usr/local/lib/python3.10/dist-packages (from ipywidgets) (5.7.1)\n",
            "Requirement already satisfied: widgetsnbextension~=3.6.0 in /usr/local/lib/python3.10/dist-packages (from ipywidgets) (3.6.10)\n",
            "Requirement already satisfied: ipython>=4.0.0 in /usr/local/lib/python3.10/dist-packages (from ipywidgets) (7.34.0)\n",
            "Requirement already satisfied: jupyterlab-widgets>=1.0.0 in /usr/local/lib/python3.10/dist-packages (from ipywidgets) (3.0.13)\n",
            "Requirement already satisfied: jupyter-client in /usr/local/lib/python3.10/dist-packages (from ipykernel>=4.5.1->ipywidgets) (6.1.12)\n",
            "Requirement already satisfied: tornado>=4.2 in /usr/local/lib/python3.10/dist-packages (from ipykernel>=4.5.1->ipywidgets) (6.3.3)\n",
            "Requirement already satisfied: setuptools>=18.5 in /usr/local/lib/python3.10/dist-packages (from ipython>=4.0.0->ipywidgets) (75.1.0)\n",
            "Requirement already satisfied: jedi>=0.16 in /usr/local/lib/python3.10/dist-packages (from ipython>=4.0.0->ipywidgets) (0.19.2)\n",
            "Requirement already satisfied: decorator in /usr/local/lib/python3.10/dist-packages (from ipython>=4.0.0->ipywidgets) (4.4.2)\n",
            "Requirement already satisfied: pickleshare in /usr/local/lib/python3.10/dist-packages (from ipython>=4.0.0->ipywidgets) (0.7.5)\n",
            "Requirement already satisfied: prompt-toolkit!=3.0.0,!=3.0.1,<3.1.0,>=2.0.0 in /usr/local/lib/python3.10/dist-packages (from ipython>=4.0.0->ipywidgets) (3.0.48)\n",
            "Requirement already satisfied: pygments in /usr/local/lib/python3.10/dist-packages (from ipython>=4.0.0->ipywidgets) (2.18.0)\n",
            "Requirement already satisfied: backcall in /usr/local/lib/python3.10/dist-packages (from ipython>=4.0.0->ipywidgets) (0.2.0)\n",
            "Requirement already satisfied: matplotlib-inline in /usr/local/lib/python3.10/dist-packages (from ipython>=4.0.0->ipywidgets) (0.1.7)\n",
            "Requirement already satisfied: pexpect>4.3 in /usr/local/lib/python3.10/dist-packages (from ipython>=4.0.0->ipywidgets) (4.9.0)\n",
            "Requirement already satisfied: notebook>=4.4.1 in /usr/local/lib/python3.10/dist-packages (from widgetsnbextension~=3.6.0->ipywidgets) (6.5.5)\n",
            "Requirement already satisfied: parso<0.9.0,>=0.8.4 in /usr/local/lib/python3.10/dist-packages (from jedi>=0.16->ipython>=4.0.0->ipywidgets) (0.8.4)\n",
            "Requirement already satisfied: jinja2 in /usr/local/lib/python3.10/dist-packages (from notebook>=4.4.1->widgetsnbextension~=3.6.0->ipywidgets) (3.1.4)\n",
            "Requirement already satisfied: pyzmq<25,>=17 in /usr/local/lib/python3.10/dist-packages (from notebook>=4.4.1->widgetsnbextension~=3.6.0->ipywidgets) (24.0.1)\n",
            "Requirement already satisfied: argon2-cffi in /usr/local/lib/python3.10/dist-packages (from notebook>=4.4.1->widgetsnbextension~=3.6.0->ipywidgets) (23.1.0)\n",
            "Requirement already satisfied: jupyter-core>=4.6.1 in /usr/local/lib/python3.10/dist-packages (from notebook>=4.4.1->widgetsnbextension~=3.6.0->ipywidgets) (5.7.2)\n",
            "Requirement already satisfied: nbformat in /usr/local/lib/python3.10/dist-packages (from notebook>=4.4.1->widgetsnbextension~=3.6.0->ipywidgets) (5.10.4)\n",
            "Requirement already satisfied: nbconvert>=5 in /usr/local/lib/python3.10/dist-packages (from notebook>=4.4.1->widgetsnbextension~=3.6.0->ipywidgets) (7.16.4)\n",
            "Requirement already satisfied: nest-asyncio>=1.5 in /usr/local/lib/python3.10/dist-packages (from notebook>=4.4.1->widgetsnbextension~=3.6.0->ipywidgets) (1.6.0)\n",
            "Requirement already satisfied: Send2Trash>=1.8.0 in /usr/local/lib/python3.10/dist-packages (from notebook>=4.4.1->widgetsnbextension~=3.6.0->ipywidgets) (1.8.3)\n",
            "Requirement already satisfied: terminado>=0.8.3 in /usr/local/lib/python3.10/dist-packages (from notebook>=4.4.1->widgetsnbextension~=3.6.0->ipywidgets) (0.18.1)\n",
            "Requirement already satisfied: prometheus-client in /usr/local/lib/python3.10/dist-packages (from notebook>=4.4.1->widgetsnbextension~=3.6.0->ipywidgets) (0.21.0)\n",
            "Requirement already satisfied: nbclassic>=0.4.7 in /usr/local/lib/python3.10/dist-packages (from notebook>=4.4.1->widgetsnbextension~=3.6.0->ipywidgets) (1.1.0)\n",
            "Requirement already satisfied: python-dateutil>=2.1 in /usr/local/lib/python3.10/dist-packages (from jupyter-client->ipykernel>=4.5.1->ipywidgets) (2.8.2)\n",
            "Requirement already satisfied: ptyprocess>=0.5 in /usr/local/lib/python3.10/dist-packages (from pexpect>4.3->ipython>=4.0.0->ipywidgets) (0.7.0)\n",
            "Requirement already satisfied: wcwidth in /usr/local/lib/python3.10/dist-packages (from prompt-toolkit!=3.0.0,!=3.0.1,<3.1.0,>=2.0.0->ipython>=4.0.0->ipywidgets) (0.2.13)\n",
            "Requirement already satisfied: platformdirs>=2.5 in /usr/local/lib/python3.10/dist-packages (from jupyter-core>=4.6.1->notebook>=4.4.1->widgetsnbextension~=3.6.0->ipywidgets) (4.3.6)\n",
            "Requirement already satisfied: notebook-shim>=0.2.3 in /usr/local/lib/python3.10/dist-packages (from nbclassic>=0.4.7->notebook>=4.4.1->widgetsnbextension~=3.6.0->ipywidgets) (0.2.4)\n",
            "Requirement already satisfied: beautifulsoup4 in /usr/local/lib/python3.10/dist-packages (from nbconvert>=5->notebook>=4.4.1->widgetsnbextension~=3.6.0->ipywidgets) (4.12.3)\n",
            "Requirement already satisfied: bleach!=5.0.0 in /usr/local/lib/python3.10/dist-packages (from nbconvert>=5->notebook>=4.4.1->widgetsnbextension~=3.6.0->ipywidgets) (6.2.0)\n",
            "Requirement already satisfied: defusedxml in /usr/local/lib/python3.10/dist-packages (from nbconvert>=5->notebook>=4.4.1->widgetsnbextension~=3.6.0->ipywidgets) (0.7.1)\n",
            "Requirement already satisfied: jupyterlab-pygments in /usr/local/lib/python3.10/dist-packages (from nbconvert>=5->notebook>=4.4.1->widgetsnbextension~=3.6.0->ipywidgets) (0.3.0)\n",
            "Requirement already satisfied: markupsafe>=2.0 in /usr/local/lib/python3.10/dist-packages (from nbconvert>=5->notebook>=4.4.1->widgetsnbextension~=3.6.0->ipywidgets) (3.0.2)\n",
            "Requirement already satisfied: mistune<4,>=2.0.3 in /usr/local/lib/python3.10/dist-packages (from nbconvert>=5->notebook>=4.4.1->widgetsnbextension~=3.6.0->ipywidgets) (3.0.2)\n",
            "Requirement already satisfied: nbclient>=0.5.0 in /usr/local/lib/python3.10/dist-packages (from nbconvert>=5->notebook>=4.4.1->widgetsnbextension~=3.6.0->ipywidgets) (0.10.0)\n",
            "Requirement already satisfied: packaging in /usr/local/lib/python3.10/dist-packages (from nbconvert>=5->notebook>=4.4.1->widgetsnbextension~=3.6.0->ipywidgets) (24.2)\n",
            "Requirement already satisfied: pandocfilters>=1.4.1 in /usr/local/lib/python3.10/dist-packages (from nbconvert>=5->notebook>=4.4.1->widgetsnbextension~=3.6.0->ipywidgets) (1.5.1)\n",
            "Requirement already satisfied: tinycss2 in /usr/local/lib/python3.10/dist-packages (from nbconvert>=5->notebook>=4.4.1->widgetsnbextension~=3.6.0->ipywidgets) (1.4.0)\n",
            "Requirement already satisfied: fastjsonschema>=2.15 in /usr/local/lib/python3.10/dist-packages (from nbformat->notebook>=4.4.1->widgetsnbextension~=3.6.0->ipywidgets) (2.20.0)\n",
            "Requirement already satisfied: jsonschema>=2.6 in /usr/local/lib/python3.10/dist-packages (from nbformat->notebook>=4.4.1->widgetsnbextension~=3.6.0->ipywidgets) (4.23.0)\n",
            "Requirement already satisfied: six>=1.5 in /usr/local/lib/python3.10/dist-packages (from python-dateutil>=2.1->jupyter-client->ipykernel>=4.5.1->ipywidgets) (1.16.0)\n",
            "Requirement already satisfied: argon2-cffi-bindings in /usr/local/lib/python3.10/dist-packages (from argon2-cffi->notebook>=4.4.1->widgetsnbextension~=3.6.0->ipywidgets) (21.2.0)\n",
            "Requirement already satisfied: webencodings in /usr/local/lib/python3.10/dist-packages (from bleach!=5.0.0->nbconvert>=5->notebook>=4.4.1->widgetsnbextension~=3.6.0->ipywidgets) (0.5.1)\n",
            "Requirement already satisfied: attrs>=22.2.0 in /usr/local/lib/python3.10/dist-packages (from jsonschema>=2.6->nbformat->notebook>=4.4.1->widgetsnbextension~=3.6.0->ipywidgets) (24.2.0)\n",
            "Requirement already satisfied: jsonschema-specifications>=2023.03.6 in /usr/local/lib/python3.10/dist-packages (from jsonschema>=2.6->nbformat->notebook>=4.4.1->widgetsnbextension~=3.6.0->ipywidgets) (2024.10.1)\n",
            "Requirement already satisfied: referencing>=0.28.4 in /usr/local/lib/python3.10/dist-packages (from jsonschema>=2.6->nbformat->notebook>=4.4.1->widgetsnbextension~=3.6.0->ipywidgets) (0.35.1)\n",
            "Requirement already satisfied: rpds-py>=0.7.1 in /usr/local/lib/python3.10/dist-packages (from jsonschema>=2.6->nbformat->notebook>=4.4.1->widgetsnbextension~=3.6.0->ipywidgets) (0.21.0)\n",
            "Requirement already satisfied: jupyter-server<3,>=1.8 in /usr/local/lib/python3.10/dist-packages (from notebook-shim>=0.2.3->nbclassic>=0.4.7->notebook>=4.4.1->widgetsnbextension~=3.6.0->ipywidgets) (1.24.0)\n",
            "Requirement already satisfied: cffi>=1.0.1 in /usr/local/lib/python3.10/dist-packages (from argon2-cffi-bindings->argon2-cffi->notebook>=4.4.1->widgetsnbextension~=3.6.0->ipywidgets) (1.17.1)\n",
            "Requirement already satisfied: soupsieve>1.2 in /usr/local/lib/python3.10/dist-packages (from beautifulsoup4->nbconvert>=5->notebook>=4.4.1->widgetsnbextension~=3.6.0->ipywidgets) (2.6)\n",
            "Requirement already satisfied: pycparser in /usr/local/lib/python3.10/dist-packages (from cffi>=1.0.1->argon2-cffi-bindings->argon2-cffi->notebook>=4.4.1->widgetsnbextension~=3.6.0->ipywidgets) (2.22)\n",
            "Requirement already satisfied: anyio<4,>=3.1.0 in /usr/local/lib/python3.10/dist-packages (from jupyter-server<3,>=1.8->notebook-shim>=0.2.3->nbclassic>=0.4.7->notebook>=4.4.1->widgetsnbextension~=3.6.0->ipywidgets) (3.7.1)\n",
            "Requirement already satisfied: websocket-client in /usr/local/lib/python3.10/dist-packages (from jupyter-server<3,>=1.8->notebook-shim>=0.2.3->nbclassic>=0.4.7->notebook>=4.4.1->widgetsnbextension~=3.6.0->ipywidgets) (1.8.0)\n",
            "Requirement already satisfied: idna>=2.8 in /usr/local/lib/python3.10/dist-packages (from anyio<4,>=3.1.0->jupyter-server<3,>=1.8->notebook-shim>=0.2.3->nbclassic>=0.4.7->notebook>=4.4.1->widgetsnbextension~=3.6.0->ipywidgets) (3.10)\n",
            "Requirement already satisfied: sniffio>=1.1 in /usr/local/lib/python3.10/dist-packages (from anyio<4,>=3.1.0->jupyter-server<3,>=1.8->notebook-shim>=0.2.3->nbclassic>=0.4.7->notebook>=4.4.1->widgetsnbextension~=3.6.0->ipywidgets) (1.3.1)\n",
            "Requirement already satisfied: exceptiongroup in /usr/local/lib/python3.10/dist-packages (from anyio<4,>=3.1.0->jupyter-server<3,>=1.8->notebook-shim>=0.2.3->nbclassic>=0.4.7->notebook>=4.4.1->widgetsnbextension~=3.6.0->ipywidgets) (1.2.2)\n",
            "Collecting PyQt5\n",
            "  Downloading PyQt5-5.15.11-cp38-abi3-manylinux_2_17_x86_64.whl.metadata (2.1 kB)\n",
            "Collecting PyQt5-sip<13,>=12.15 (from PyQt5)\n",
            "  Downloading PyQt5_sip-12.15.0-cp310-cp310-manylinux_2_5_x86_64.manylinux1_x86_64.whl.metadata (421 bytes)\n",
            "Collecting PyQt5-Qt5<5.16.0,>=5.15.2 (from PyQt5)\n",
            "  Downloading PyQt5_Qt5-5.15.15-py3-none-manylinux2014_x86_64.whl.metadata (536 bytes)\n",
            "Downloading PyQt5-5.15.11-cp38-abi3-manylinux_2_17_x86_64.whl (8.2 MB)\n",
            "\u001b[2K   \u001b[90m━━━━━━━━━━━━━━━━━━━━━━━━━━━━━━━━━━━━━━━━\u001b[0m \u001b[32m8.2/8.2 MB\u001b[0m \u001b[31m67.4 MB/s\u001b[0m eta \u001b[36m0:00:00\u001b[0m\n",
            "\u001b[?25hDownloading PyQt5_Qt5-5.15.15-py3-none-manylinux2014_x86_64.whl (59.8 MB)\n",
            "\u001b[2K   \u001b[90m━━━━━━━━━━━━━━━━━━━━━━━━━━━━━━━━━━━━━━━━\u001b[0m \u001b[32m59.8/59.8 MB\u001b[0m \u001b[31m11.2 MB/s\u001b[0m eta \u001b[36m0:00:00\u001b[0m\n",
            "\u001b[?25hDownloading PyQt5_sip-12.15.0-cp310-cp310-manylinux_2_5_x86_64.manylinux1_x86_64.whl (270 kB)\n",
            "\u001b[2K   \u001b[90m━━━━━━━━━━━━━━━━━━━━━━━━━━━━━━━━━━━━━━━━\u001b[0m \u001b[32m270.5/270.5 kB\u001b[0m \u001b[31m17.2 MB/s\u001b[0m eta \u001b[36m0:00:00\u001b[0m\n",
            "\u001b[?25hInstalling collected packages: PyQt5-Qt5, PyQt5-sip, PyQt5\n",
            "Successfully installed PyQt5-5.15.11 PyQt5-Qt5-5.15.15 PyQt5-sip-12.15.0\n",
            "Collecting PySide2\n",
            "  Downloading PySide2-5.15.2.1-5.15.2-cp35.cp36.cp37.cp38.cp39.cp310-abi3-manylinux1_x86_64.whl.metadata (5.1 kB)\n",
            "Collecting shiboken2==5.15.2.1 (from PySide2)\n",
            "  Downloading shiboken2-5.15.2.1-5.15.2-cp35.cp36.cp37.cp38.cp39.cp310-abi3-manylinux1_x86_64.whl.metadata (2.7 kB)\n",
            "Downloading PySide2-5.15.2.1-5.15.2-cp35.cp36.cp37.cp38.cp39.cp310-abi3-manylinux1_x86_64.whl (164.3 MB)\n",
            "\u001b[2K   \u001b[90m━━━━━━━━━━━━━━━━━━━━━━━━━━━━━━━━━━━━━━━━\u001b[0m \u001b[32m164.3/164.3 MB\u001b[0m \u001b[31m6.9 MB/s\u001b[0m eta \u001b[36m0:00:00\u001b[0m\n",
            "\u001b[?25hDownloading shiboken2-5.15.2.1-5.15.2-cp35.cp36.cp37.cp38.cp39.cp310-abi3-manylinux1_x86_64.whl (975 kB)\n",
            "\u001b[2K   \u001b[90m━━━━━━━━━━━━━━━━━━━━━━━━━━━━━━━━━━━━━━━━\u001b[0m \u001b[32m975.4/975.4 kB\u001b[0m \u001b[31m43.3 MB/s\u001b[0m eta \u001b[36m0:00:00\u001b[0m\n",
            "\u001b[?25hInstalling collected packages: shiboken2, PySide2\n",
            "Successfully installed PySide2-5.15.2.1 shiboken2-5.15.2.1\n"
          ]
        }
      ]
    },
    {
      "cell_type": "code",
      "execution_count": 19,
      "metadata": {
        "id": "eDYS62t9omWm"
      },
      "outputs": [],
      "source": [
        "#%matplotlib qt5\n",
        "# 激活Qt5渲染后端,这个后端允许在IPython环境中使用matplotlib绘制图形，并且可以在Jupyter Notebook中显示动态图\n",
        "%matplotlib inline\n",
        "# 显示静态图形\n",
        "\n",
        "def oasw_real_time(a=0.99, b=0.95, win1=200, win2=1000):\n",
        "    a = round(a, 3)\n",
        "    b = round(b, 3)\n",
        "    win1 = round(win1)\n",
        "    win2 = round(win2)\n",
        "\n",
        "    plt.ion() #start interactive mode\n",
        "    #plt.figure(1, constrained_layout=True)\n",
        "    plt.figure(1,figsize=(12,7.5))\n",
        "    sns.set_style(\"darkgrid\")\n",
        "\n",
        "    metric = metrics.Accuracy()\n",
        "    metric2 = metrics.Accuracy()\n",
        "\n",
        "    i = 0\n",
        "    t = []\n",
        "    yt = []\n",
        "    yp = []\n",
        "    m = []\n",
        "    m2 = []\n",
        "    x_new=[]\n",
        "    y_new=[]\n",
        "    dr=[0]\n",
        "    d=0\n",
        "    f=0\n",
        "    tt=0\n",
        "    th=0\n",
        "    xt=[]\n",
        "\n",
        "    classifier = lgb.LGBMClassifier() # Train the initial LightGBM model\n",
        "    classifier.fit(X_train,y_train)\n",
        "\n",
        "    classifier2 = lgb.LGBMClassifier() # Train an offline LightGBM model as a comparison model\n",
        "    classifier2.fit(X_train,y_train)\n",
        "\n",
        "    for xi, yi in stream.iter_pandas(X_test, y_test):\n",
        "\n",
        "        xi2=np.array(list(xi.values()))\n",
        "        y_pred = classifier.predict(xi2.reshape(1, -1))      # make a prediction\n",
        "\n",
        "                  # 确保 y_pred 是单个预测值\n",
        "        if y_pred.size > 0:  # 检查 y_pred 是否有元素\n",
        "          y_pred = y_pred.item()  # 提取单个预测值\n",
        "        else:\n",
        "          y_pred = 0  # 或者你可以选择一个默认值，例如 0\n",
        "\n",
        "        if metric is not None:\n",
        "          metric.update(yi, y_pred)\n",
        "        else:\n",
        "          print(\"Metric is not initialized properly.\")\n",
        "\n",
        "        y_pred2= classifier2.predict(xi2.reshape(1, -1))\n",
        "                    # 确保 y_pred 是单个预测值\n",
        "        if y_pred2.size > 0:  # 检查 y_pred 是否有元素\n",
        "          y_pred2 = y_pred2.item()  # 提取单个预测值\n",
        "        else:\n",
        "          y_pred2 = 0  # 或者你可以选择一个默认值，例如 0\n",
        "\n",
        "        if metric2 is not None:\n",
        "          metric2.update(yi, y_pred2)\n",
        "        else:\n",
        "          print(\"Metric is not initialized properly.\")\n",
        "\n",
        "        # Store the y_test, y_pred, x_test, and real-time accuracy\n",
        "        t.append(i)\n",
        "        m.append(metric.get()*100)\n",
        "        yt.append(yi)\n",
        "        yp.append(y_pred)\n",
        "        m2.append(metric2.get()*100)\n",
        "        xt.append(xi2)\n",
        "\n",
        "        # Monitor the accuracy changes in the sliding window\n",
        "        if i>2*win1:\n",
        "            acc1=accuracy_score(yt[i-win1:],yp[i-win1:]) # Current window accuracy\n",
        "            acc2=accuracy_score(yt[i-2*win1:i-win1],yp[i-2*win1:i-win1]) # Last window accuracy\n",
        "            if (d==0)&(acc1<a*acc2): # If the window accuracy drops to the warning level\n",
        "                x_new.append(xi2)\n",
        "                y_new.append(yi)\n",
        "                d=1\n",
        "            if d==1: # In the warning level\n",
        "                tt=len(y_new)\n",
        "                if acc1<b*acc2: # If the window accuracy drops to the drift level\n",
        "                    dr.append(i)# Record the drift start point\n",
        "                    f=i\n",
        "                    if tt<win1: # if enough new concept samples are collected\n",
        "                        classifier.fit(xt[i-win1:],yt[i-win1:])\n",
        "                    else:\n",
        "                        classifier.fit(x_new,y_new)\n",
        "                    d=2\n",
        "                elif (acc1>a*acc2)|(tt==win2): # If the window accuracy increases back to the normal level (false alarm)\n",
        "                    x_new=[]\n",
        "                    y_new=[]\n",
        "                    d=0\n",
        "                else:\n",
        "                    x_new.append(xi2)\n",
        "                    y_new.append(yi)\n",
        "            if d==2: # In the drift level\n",
        "                tt=len(y_new)\n",
        "                acc3=accuracy_score(yt[f:f+win1],yp[f:f+win1])\n",
        "                x_new.append(xi2)\n",
        "                y_new.append(yi)\n",
        "                if tt>=win1:\n",
        "                    if (acc1<a*acc3): # When new concept accuracy drops to the warning level\n",
        "                        if th==0:\n",
        "                            classifier.fit(x_new,y_new) # Retrain the classifier on all the newly collected samples to obtain a robust classifier\n",
        "                            th=1\n",
        "                    if (th==1)&(tt==win2): # When sufficient new concept samples are collected\n",
        "                        classifier.fit(x_new,y_new) #obtain a robust classifier\n",
        "                        x_new=[]\n",
        "                        y_new=[]\n",
        "                        d=0 # Go back to the normal state for next potential drift detection\n",
        "                        th=0\n",
        "\n",
        "\n",
        "#     if i == (10000):\n",
        "        plt.clf()\n",
        "        plt.plot(t,m,'-b',label='RMSE with drift')\n",
        "        plt.plot(t,m2,'pink',label='RMSE without drift')\n",
        "        #plt.plot(t,yp,'-g',label='True values')\n",
        "        #plt.plot(t,yt,'-r',label='Predicted values')\n",
        "        plt.legend(loc='upper left')\n",
        "        plt.title('NSL-KDD Dataset Online Learning Results', fontsize=15,pad =10)\n",
        "        plt.suptitle('NSL-KDD Dataset Results'+'\\nAvg Test Accuracy of Adaptive LightGBM: '+str(round(metric.get()*100, 2))+'\\nAvg Test Accuracy of Offline LightGBM: '\n",
        "                     +str(round(metric2.get()*100, 2))+'\\nDrift detected at timestamps: '+str(dr[1:]), fontsize=10,verticalalignment='baseline')\n",
        "        plt.xlabel('Number of samples')\n",
        "        plt.ylabel('Accuracy (%)')\n",
        "\n",
        "        plt.draw()\n",
        "\n",
        "        plt.pause(0.000000001)\n",
        "\n",
        "        i=i+1"
      ]
    },
    {
      "cell_type": "code",
      "execution_count": null,
      "metadata": {
        "id": "4hLavc_bomWm"
      },
      "outputs": [],
      "source": [
        "# 使用得到的最优超参数\n",
        "oasw_real_time(a = 0.963, b = 0.936, win1 = 238, win2 = 4490)"
      ]
    },
    {
      "cell_type": "code",
      "execution_count": null,
      "metadata": {
        "collapsed": true,
        "id": "Lkzjl-42omWm"
      },
      "outputs": [],
      "source": []
    }
  ],
  "metadata": {
    "anaconda-cloud": {},
    "kernelspec": {
      "display_name": "tf36",
      "language": "python",
      "name": "tf36"
    },
    "language_info": {
      "codemirror_mode": {
        "name": "ipython",
        "version": 3
      },
      "file_extension": ".py",
      "mimetype": "text/x-python",
      "name": "python",
      "nbconvert_exporter": "python",
      "pygments_lexer": "ipython3",
      "version": "3.6.8"
    },
    "colab": {
      "provenance": []
    }
  },
  "nbformat": 4,
  "nbformat_minor": 0
}